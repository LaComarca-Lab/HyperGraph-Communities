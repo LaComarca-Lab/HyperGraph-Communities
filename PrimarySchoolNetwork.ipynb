{
 "cells": [
  {
   "cell_type": "markdown",
   "id": "2bbbea64-1d2e-40ec-bdff-2b5271af3733",
   "metadata": {},
   "source": [
    "# Clustering Primary School network"
   ]
  },
  {
   "cell_type": "code",
   "execution_count": 1,
   "id": "74c37386-1440-462a-96fd-a1faf4667500",
   "metadata": {},
   "outputs": [],
   "source": [
    "import numpy as np\n",
    "import networkx as nx\n",
    "import pandas as pd\n",
    "import xgi\n",
    "from scipy.cluster import hierarchy\n",
    "from collections import defaultdict\n",
    "from itertools import combinations, product\n",
    "\n",
    "import matplotlib.pyplot as plt\n",
    "import scienceplots\n",
    "plt.style.use(['science', 'no-latex'])\n",
    "\n",
    "from hyperfunctions import *\n",
    "from modularity_functions import *"
   ]
  },
  {
   "cell_type": "markdown",
   "id": "50c476a3-a4b0-4f05-a364-e1e328dcfe9b",
   "metadata": {},
   "source": [
    "##  Constructing the Hypergraph"
   ]
  },
  {
   "cell_type": "markdown",
   "id": "9cec0e30-76e7-4cd1-ae70-f3cd9e98870e",
   "metadata": {},
   "source": [
    "We create the hypergraph with the students and teachers of a Primary School"
   ]
  },
  {
   "cell_type": "code",
   "execution_count": 2,
   "id": "8ab67f79-4426-4054-bbe7-1e5aecb7ee8c",
   "metadata": {},
   "outputs": [],
   "source": [
    "df = pd.read_csv('Datasets/Primary_edges.csv' , sep = ';', header=None)\n",
    "\n",
    "hyperedge_dict = {}\n",
    "for index, hyperedge in enumerate(df[0]):\n",
    "    hyperedge_dict[index] = hyperedge.split(\",\")\n",
    "\n",
    "H = xgi.Hypergraph(hyperedge_dict)\n",
    "H.remove_edges_from(H.edges.singletons())"
   ]
  },
  {
   "cell_type": "code",
   "execution_count": 3,
   "id": "ef07d9a0-8b84-4565-93c6-55006267a5b6",
   "metadata": {},
   "outputs": [
    {
     "name": "stdout",
     "output_type": "stream",
     "text": [
      "242 12699\n"
     ]
    }
   ],
   "source": [
    "print(len(H.nodes), len(H.edges))"
   ]
  },
  {
   "cell_type": "code",
   "execution_count": 4,
   "id": "48c56c74-7f98-4900-947e-ca2cbf03d467",
   "metadata": {},
   "outputs": [],
   "source": [
    "nodes_list = list(H.nodes)"
   ]
  },
  {
   "cell_type": "code",
   "execution_count": 5,
   "id": "3b83fc39-327f-4e31-89c0-3539fa64759c",
   "metadata": {},
   "outputs": [],
   "source": [
    "df_idtags = pd.read_csv('Datasets/Primary_idtags.csv' , sep = ';', header=None)\n",
    "df_tags = pd.read_csv('Datasets/Primary_tags.csv' , sep = ';', header=None)"
   ]
  },
  {
   "cell_type": "code",
   "execution_count": 6,
   "id": "ae80d93c-98ae-4a64-bc85-2a6db6b1ff52",
   "metadata": {},
   "outputs": [],
   "source": [
    "tag_dict = {}\n",
    "for index, tag in enumerate(df_tags[0]):\n",
    "    tag_dict[index+1] = tag"
   ]
  },
  {
   "cell_type": "code",
   "execution_count": 7,
   "id": "fa7e4574-4a42-4f57-a718-b47b009955ce",
   "metadata": {},
   "outputs": [],
   "source": [
    "idtag_dict = {}\n",
    "for index, name in enumerate(df_idtags[0]):\n",
    "    idtag_dict[index+1] = name"
   ]
  },
  {
   "cell_type": "markdown",
   "id": "7beb7ce9-dd8b-4dc9-978e-66c4eec81493",
   "metadata": {},
   "source": [
    "## Communities"
   ]
  },
  {
   "cell_type": "code",
   "execution_count": 8,
   "id": "2641af8e-7557-4c05-8b7c-92262faf3615",
   "metadata": {},
   "outputs": [],
   "source": [
    "derivative = derivative_list(H)"
   ]
  },
  {
   "cell_type": "code",
   "execution_count": 9,
   "id": "3c7f9e0b-2ed7-4a3d-9bf5-aaf35adefaab",
   "metadata": {},
   "outputs": [],
   "source": [
    "method = \"average\""
   ]
  },
  {
   "cell_type": "code",
   "execution_count": 10,
   "id": "56db2793-e800-4a87-8a98-3afd2b4d8d0a",
   "metadata": {},
   "outputs": [
    {
     "name": "stderr",
     "output_type": "stream",
     "text": [
      "Locator attempting to generate 1210 ticks ([1.0, ..., 2419.0]), which exceeds Locator.MAXTICKS (1000).\n",
      "Locator attempting to generate 1210 ticks ([1.0, ..., 2419.0]), which exceeds Locator.MAXTICKS (1000).\n",
      "Locator attempting to generate 1210 ticks ([1.0, ..., 2419.0]), which exceeds Locator.MAXTICKS (1000).\n",
      "Locator attempting to generate 1210 ticks ([1.0, ..., 2419.0]), which exceeds Locator.MAXTICKS (1000).\n",
      "Locator attempting to generate 1210 ticks ([1.0, ..., 2419.0]), which exceeds Locator.MAXTICKS (1000).\n",
      "Locator attempting to generate 1210 ticks ([1.0, ..., 2419.0]), which exceeds Locator.MAXTICKS (1000).\n",
      "Locator attempting to generate 1210 ticks ([1.0, ..., 2419.0]), which exceeds Locator.MAXTICKS (1000).\n",
      "Locator attempting to generate 1210 ticks ([1.0, ..., 2419.0]), which exceeds Locator.MAXTICKS (1000).\n",
      "Locator attempting to generate 1210 ticks ([1.0, ..., 2419.0]), which exceeds Locator.MAXTICKS (1000).\n",
      "Locator attempting to generate 1210 ticks ([1.0, ..., 2419.0]), which exceeds Locator.MAXTICKS (1000).\n",
      "Locator attempting to generate 1210 ticks ([1.0, ..., 2419.0]), which exceeds Locator.MAXTICKS (1000).\n",
      "Locator attempting to generate 1210 ticks ([1.0, ..., 2419.0]), which exceeds Locator.MAXTICKS (1000).\n",
      "Locator attempting to generate 1210 ticks ([1.0, ..., 2419.0]), which exceeds Locator.MAXTICKS (1000).\n",
      "Locator attempting to generate 1210 ticks ([1.0, ..., 2419.0]), which exceeds Locator.MAXTICKS (1000).\n",
      "Locator attempting to generate 1210 ticks ([1.0, ..., 2419.0]), which exceeds Locator.MAXTICKS (1000).\n",
      "Locator attempting to generate 1210 ticks ([1.0, ..., 2419.0]), which exceeds Locator.MAXTICKS (1000).\n",
      "Locator attempting to generate 1210 ticks ([1.0, ..., 2419.0]), which exceeds Locator.MAXTICKS (1000).\n",
      "Locator attempting to generate 1210 ticks ([1.0, ..., 2419.0]), which exceeds Locator.MAXTICKS (1000).\n",
      "Locator attempting to generate 1210 ticks ([1.0, ..., 2419.0]), which exceeds Locator.MAXTICKS (1000).\n",
      "Locator attempting to generate 1210 ticks ([1.0, ..., 2419.0]), which exceeds Locator.MAXTICKS (1000).\n",
      "Locator attempting to generate 1210 ticks ([1.0, ..., 2419.0]), which exceeds Locator.MAXTICKS (1000).\n",
      "Locator attempting to generate 1210 ticks ([1.0, ..., 2419.0]), which exceeds Locator.MAXTICKS (1000).\n",
      "Locator attempting to generate 1210 ticks ([1.0, ..., 2419.0]), which exceeds Locator.MAXTICKS (1000).\n",
      "Locator attempting to generate 1210 ticks ([1.0, ..., 2419.0]), which exceeds Locator.MAXTICKS (1000).\n",
      "Locator attempting to generate 1210 ticks ([1.0, ..., 2419.0]), which exceeds Locator.MAXTICKS (1000).\n",
      "Locator attempting to generate 1210 ticks ([1.0, ..., 2419.0]), which exceeds Locator.MAXTICKS (1000).\n",
      "Locator attempting to generate 1210 ticks ([1.0, ..., 2419.0]), which exceeds Locator.MAXTICKS (1000).\n",
      "Locator attempting to generate 1210 ticks ([1.0, ..., 2419.0]), which exceeds Locator.MAXTICKS (1000).\n",
      "Locator attempting to generate 1210 ticks ([1.0, ..., 2419.0]), which exceeds Locator.MAXTICKS (1000).\n",
      "Locator attempting to generate 1210 ticks ([1.0, ..., 2419.0]), which exceeds Locator.MAXTICKS (1000).\n",
      "Locator attempting to generate 1210 ticks ([1.0, ..., 2419.0]), which exceeds Locator.MAXTICKS (1000).\n",
      "Locator attempting to generate 1210 ticks ([1.0, ..., 2419.0]), which exceeds Locator.MAXTICKS (1000).\n",
      "Locator attempting to generate 1210 ticks ([1.0, ..., 2419.0]), which exceeds Locator.MAXTICKS (1000).\n",
      "Locator attempting to generate 1210 ticks ([1.0, ..., 2419.0]), which exceeds Locator.MAXTICKS (1000).\n",
      "Locator attempting to generate 1210 ticks ([1.0, ..., 2419.0]), which exceeds Locator.MAXTICKS (1000).\n",
      "Locator attempting to generate 1210 ticks ([1.0, ..., 2419.0]), which exceeds Locator.MAXTICKS (1000).\n",
      "Locator attempting to generate 1210 ticks ([1.0, ..., 2419.0]), which exceeds Locator.MAXTICKS (1000).\n",
      "Locator attempting to generate 1210 ticks ([1.0, ..., 2419.0]), which exceeds Locator.MAXTICKS (1000).\n",
      "Locator attempting to generate 1210 ticks ([1.0, ..., 2419.0]), which exceeds Locator.MAXTICKS (1000).\n",
      "Locator attempting to generate 1210 ticks ([1.0, ..., 2419.0]), which exceeds Locator.MAXTICKS (1000).\n",
      "Locator attempting to generate 1210 ticks ([1.0, ..., 2419.0]), which exceeds Locator.MAXTICKS (1000).\n",
      "Locator attempting to generate 1210 ticks ([1.0, ..., 2419.0]), which exceeds Locator.MAXTICKS (1000).\n",
      "Locator attempting to generate 1210 ticks ([1.0, ..., 2419.0]), which exceeds Locator.MAXTICKS (1000).\n",
      "Locator attempting to generate 1210 ticks ([1.0, ..., 2419.0]), which exceeds Locator.MAXTICKS (1000).\n",
      "Locator attempting to generate 1210 ticks ([1.0, ..., 2419.0]), which exceeds Locator.MAXTICKS (1000).\n",
      "Locator attempting to generate 1210 ticks ([1.0, ..., 2419.0]), which exceeds Locator.MAXTICKS (1000).\n",
      "Locator attempting to generate 1210 ticks ([1.0, ..., 2419.0]), which exceeds Locator.MAXTICKS (1000).\n",
      "Locator attempting to generate 1210 ticks ([1.0, ..., 2419.0]), which exceeds Locator.MAXTICKS (1000).\n",
      "Locator attempting to generate 1210 ticks ([1.0, ..., 2419.0]), which exceeds Locator.MAXTICKS (1000).\n",
      "Locator attempting to generate 1210 ticks ([1.0, ..., 2419.0]), which exceeds Locator.MAXTICKS (1000).\n",
      "Locator attempting to generate 1210 ticks ([1.0, ..., 2419.0]), which exceeds Locator.MAXTICKS (1000).\n",
      "Locator attempting to generate 1210 ticks ([1.0, ..., 2419.0]), which exceeds Locator.MAXTICKS (1000).\n",
      "Locator attempting to generate 1210 ticks ([1.0, ..., 2419.0]), which exceeds Locator.MAXTICKS (1000).\n",
      "Locator attempting to generate 1210 ticks ([1.0, ..., 2419.0]), which exceeds Locator.MAXTICKS (1000).\n"
     ]
    },
    {
     "data": {
      "image/png": "[encoded data removed]",
      "text/plain": [
       "<Figure size 800x600 with 1 Axes>"
      ]
     },
     "metadata": {},
     "output_type": "display_data"
    }
   ],
   "source": [
    "fig, ax = plt.subplots(1,1, figsize=(8,6))\n",
    "\n",
    "Z = hierarchy.linkage(derivative, method)\n",
    "dn = hierarchy.dendrogram(Z, labels = nodes_list, orientation='top', count_sort='ascending', ax=ax)\n",
    "\n",
    "plt.show()"
   ]
  },
  {
   "cell_type": "markdown",
   "id": "fc022328-2642-4d43-8887-9b5d5ceadefb",
   "metadata": {},
   "source": [
    "## General (us)"
   ]
  },
  {
   "cell_type": "code",
   "execution_count": 11,
   "id": "4961071d-a9df-40be-bb35-7192f7f6ae06",
   "metadata": {},
   "outputs": [],
   "source": [
    "h_cut, num_fusion = height_based_cut(Z)"
   ]
  },
  {
   "cell_type": "code",
   "execution_count": 12,
   "id": "dcaedf97-c290-4f7c-acbd-18cc998236f5",
   "metadata": {},
   "outputs": [],
   "source": [
    "cuttree = hierarchy.cut_tree(Z, height = h_cut)\n",
    "\n",
    "# Assign each node to its community\n",
    "node_community_dict = {}\n",
    "for index, node in enumerate(H.nodes):\n",
    "    node_community_dict[node] = cuttree[index][0]\n",
    "\n",
    "# Assign each community its nodes\n",
    "communities_dict = defaultdict(set)\n",
    "for node, comm in node_community_dict.items():\n",
    "    communities_dict[comm].add(node)"
   ]
  },
  {
   "cell_type": "code",
   "execution_count": 13,
   "id": "c5fcd357-5137-4a92-b296-92643f3869cb",
   "metadata": {},
   "outputs": [
    {
     "name": "stdout",
     "output_type": "stream",
     "text": [
      "8\n"
     ]
    }
   ],
   "source": [
    "Num_communities = len(set(node_community_dict.values()))\n",
    "print(Num_communities)"
   ]
  },
  {
   "cell_type": "code",
   "execution_count": 14,
   "id": "af6ed322-d2c6-4398-be05-e6b4ced74657",
   "metadata": {},
   "outputs": [
    {
     "name": "stdout",
     "output_type": "stream",
     "text": [
      "['3B', '3A', '3B', '3A', '3B', '3B', '3A', '3B', '3B', '3A', '3A', '3A', '3B', '3B', '3A', '3B', '3B', '3A', '3B', '3A', '3A', '3A', '3A', '3B', '3B', '3B', '3A', '3B', '3B', 'Teachers', '3B', '3A', '3B', '3A', 'Teachers', '3A', '3B', '3A', '3A', '3B', '3B', '3A', '3B', '3A', '3A', '3A', '3A']\n",
      "###\n",
      "['4A', '4A', '4A', '4A', '4A', '5B', '4A', '4A', '4A', '4A', '4A', '4A', '4A', '4A', '4B', '4A', 'Teachers', '4A', '4B', '4A', '4A', '4A', '4A', '4A', '4A']\n",
      "###\n",
      "['4B', '4B', '4B', '4B', '4B', '4B', '4B', '4B', '4B', '4B', '4B', '4B', '4B', '4B', '4B', '4B', '4B', '4B', '4B', 'Teachers', '4B', '4B']\n",
      "###\n",
      "['5B', '5A', '5A', '5B', '5A', '5A', '5B', '5A', '5B', '5B', '5B', '5B', '5B', 'Teachers', 'Teachers', '5B', '5B', '5B', '5A', '5B', '5A', '5A', '5A', '5B', '5B', '5A', '5A', '5A', '5A', '5B', '5A', '5B', '5B', '5B', '5A', '5A', '5A', '5B', '5A', '5A', '5B', '5B', '5B', '5B', '5A', '5A', '5A']\n",
      "###\n",
      "['2B', '2B', '2A', '2B', '2B', '2B', '2B', '2B', '2B', '2B', 'Teachers', '2B', '2B', '2B', '2B', '2B', '2B', '2B', '2B', '2B', '2B', '2B', '2B', '2B', '2B', '2B', '2A', '2B', '2B']\n",
      "###\n",
      "['2A', '1A', '1A', '1A', '1A', '1A', '1A', '1A', '1A', '1B', '1A', '1A', '1A', '1A', '1A', '1A', '1A', '1A', '1A', '1A', 'Teachers', '1A', '1A', '1A', '1A', '1A']\n",
      "###\n",
      "['2A', '2A', '2A', '2A', '2A', '2A', 'Teachers', '2A', '2A', '2A', '2A', '2A', '2A', '2A', '2A', '2A', '2A', '2A', '2A', '2A', '2A']\n",
      "###\n",
      "['1B', '1B', '1B', '1B', '1B', '1B', '1B', '1B', '1B', '1B', '1B', '1B', '1B', '1B', '1B', '1B', '1B', '1B', 'Teachers', '1B', '1B', '1B', '1B', '1B', '1B']\n",
      "###\n"
     ]
    }
   ],
   "source": [
    "nodeset_list = []\n",
    "for nodeset in communities_dict.values():\n",
    "    nodeset_list.append(nodeset)\n",
    "    tag_list = []\n",
    "    for node in list(nodeset):\n",
    "        tag_list.append(tag_dict[idtag_dict[int(node)]])\n",
    "    print(tag_list)\n",
    "    #print(nodeset)\n",
    "\n",
    "    print(\"###\")"
   ]
  },
  {
   "cell_type": "code",
   "execution_count": 15,
   "id": "7f3cd62a-2fd6-48e1-a138-7d550e5354f3",
   "metadata": {},
   "outputs": [],
   "source": [
    "partition_general = nodeset_list"
   ]
  },
  {
   "cell_type": "markdown",
   "id": "3bcaa7e9-6ef1-4e2a-9bfe-d182bcc961e7",
   "metadata": {},
   "source": [
    "## Modularity (us)"
   ]
  },
  {
   "cell_type": "code",
   "execution_count": 16,
   "id": "1f03f58b-f4f5-4555-b0b5-283660326b49",
   "metadata": {},
   "outputs": [],
   "source": [
    "A, G, mapping = reduced_adjacency_matrix(H)"
   ]
  },
  {
   "cell_type": "code",
   "execution_count": 17,
   "id": "a37897d5-9600-48bc-8d01-0b4d7f34678e",
   "metadata": {},
   "outputs": [
    {
     "name": "stdout",
     "output_type": "stream",
     "text": [
      "-- 0.0% --\n",
      "-- 0.2066115702479339% --\n",
      "-- 0.4132231404958678% --\n",
      "-- 0.6198347107438017% --\n",
      "-- 0.8264462809917356% --\n"
     ]
    }
   ],
   "source": [
    "Modularity = calculate_modularities(H, G, Z)"
   ]
  },
  {
   "cell_type": "markdown",
   "id": "b83976c2-1531-44a9-90cb-f537126ca0e0",
   "metadata": {},
   "source": [
    "*Conclusion*: the general method coincides with our modularity maximization in this example"
   ]
  },
  {
   "cell_type": "code",
   "execution_count": 18,
   "id": "0f83c1d5-b07e-4543-8def-3c47d56dfae7",
   "metadata": {},
   "outputs": [
    {
     "name": "stdout",
     "output_type": "stream",
     "text": [
      "Number of communities maximizing the modularity is: 6,\n",
      "with modularity: 0.4346482178213198\n"
     ]
    }
   ],
   "source": [
    "m = max(Modularity)\n",
    "num_fusion = [i for i, j in enumerate(Modularity) if j == m]\n",
    "index_max = num_fusion[0]\n",
    "\n",
    "print(f'Number of communities maximizing the modularity is: {index_max},')\n",
    "print(f'with modularity: {m}')"
   ]
  },
  {
   "cell_type": "code",
   "execution_count": 19,
   "id": "fc456164-0c32-48ae-bef0-6b1854ffa191",
   "metadata": {},
   "outputs": [
    {
     "data": {
      "image/png": "[encoded data removed]",
      "text/plain": [
       "<Figure size 600x400 with 1 Axes>"
      ]
     },
     "metadata": {},
     "output_type": "display_data"
    }
   ],
   "source": [
    "plt.figure(figsize=(6,4))\n",
    "#plt.title(\"Modularity score vs Number of communities\")\n",
    "plt.plot(range(len(H.nodes)), Modularity, label='$Q$')\n",
    "#plt.grid()\n",
    "plt.axvline(Num_communities, color='r', label='$ Q(h=h_{cut}) $ ')\n",
    "plt.axvline(index_max, color='g', label='$ Q_{\\max}=\\max(Q) $ ')\n",
    "\n",
    "plt.ylabel('Modularity')\n",
    "plt.xlabel('$ n $')\n",
    "\n",
    "plt.legend()\n",
    "\n",
    "plt.savefig('Figures/modularity_primary.svg')"
   ]
  },
  {
   "cell_type": "code",
   "execution_count": 20,
   "id": "906e690d-b214-4f2b-abe5-4f1588eab975",
   "metadata": {},
   "outputs": [
    {
     "name": "stdout",
     "output_type": "stream",
     "text": [
      "['3B', '3A', '3B', '3A', '3B', '3B', '3A', '3B', '3B', '3A', '3A', '3A', '3B', '3B', '3A', '3B', '3B', '3A', '3B', '3A', '3A', '3A', '3A', '3B', '3B', '3B', '3A', '3B', '3B', 'Teachers', '3B', '3A', '3B', '3A', 'Teachers', '3A', '3B', '3A', '3A', '3B', '3B', '3A', '3B', '3A', '3A', '3A', '3A']\n",
      "###\n",
      "['4A', '4A', '4A', '4A', '4A', '5B', '4A', '4A', '4A', '4A', '4A', '4A', '4A', '4A', '4B', '4A', 'Teachers', '4A', '4B', '4A', '4A', '4A', '4A', '4A', '4A']\n",
      "###\n",
      "['4B', '4B', '4B', '4B', '4B', '4B', '4B', '4B', '4B', '4B', '4B', '4B', '4B', '4B', '4B', '4B', '4B', '4B', '4B', 'Teachers', '4B', '4B']\n",
      "###\n",
      "['5B', '5A', '5A', '5B', '5A', '5A', '5B', '5A', '5B', '5B', '5B', '5B', '5B', 'Teachers', 'Teachers', '5B', '5B', '5B', '5A', '5B', '5A', '5A', '5A', '5B', '5B', '5A', '5A', '5A', '5A', '5B', '5A', '5B', '5B', '5B', '5A', '5A', '5A', '5B', '5A', '5A', '5B', '5B', '5B', '5B', '5A', '5A', '5A']\n",
      "###\n",
      "['2B', '2B', '2A', '2A', '2A', '2A', '2B', '2B', '2A', '2A', '2A', '2B', 'Teachers', '2B', '2A', '2B', '2B', '2A', '2B', 'Teachers', '2B', '2B', '2B', '2B', '2B', '2A', '2B', '2A', '2A', '2A', '2B', '2B', '2B', '2A', '2B', '2B', '2A', '2B', '2B', '2B', '2B', '2A', '2A', '2A', '2A', '2A', '2A', '2B', '2B', '2A']\n",
      "###\n",
      "['1B', '2A', '1B', '1B', '1B', '1B', '1A', '1B', '1A', '1A', '1B', '1B', '1B', '1B', '1B', '1A', '1A', '1A', '1B', '1A', '1A', '1B', '1A', '1B', '1B', '1A', '1A', '1B', '1B', '1B', '1B', 'Teachers', '1A', '1B', '1A', '1A', '1A', '1B', '1B', '1B', '1A', '1A', '1A', 'Teachers', '1A', '1A', '1A', '1A', '1A', '1B', '1B']\n",
      "###\n"
     ]
    }
   ],
   "source": [
    "communities_dict = communities(H, derivative, method, n_clusters=index_max)\n",
    "\n",
    "nodeset_list = []\n",
    "for nodeset in communities_dict.values():\n",
    "    nodeset_list.append(nodeset)\n",
    "    tag_list = []\n",
    "    for node in list(nodeset):\n",
    "        tag_list.append(tag_dict[idtag_dict[int(node)]])\n",
    "    print(tag_list)\n",
    "    #print(nodeset)\n",
    "\n",
    "    print(\"###\")"
   ]
  },
  {
   "cell_type": "code",
   "execution_count": 21,
   "id": "50056de4-0ed0-40c9-ab7b-811cfb184ad9",
   "metadata": {},
   "outputs": [],
   "source": [
    "partition_modularity = nodeset_list"
   ]
  },
  {
   "cell_type": "markdown",
   "id": "46350aa9-fc3a-4a61-8897-46673ac6bbaa",
   "metadata": {},
   "source": [
    "## Modularity (Kumar)"
   ]
  },
  {
   "cell_type": "code",
   "execution_count": 22,
   "id": "80603ff6-1bfc-4926-bd61-dfb2236537e5",
   "metadata": {},
   "outputs": [
    {
     "name": "stdout",
     "output_type": "stream",
     "text": [
      "It converged after 28 iterations\n"
     ]
    }
   ],
   "source": [
    "clusters = IRMM_algorithm(H, tol=1e-3)"
   ]
  },
  {
   "cell_type": "code",
   "execution_count": 23,
   "id": "efbbda7a-4555-421a-b6da-a4c537db7068",
   "metadata": {},
   "outputs": [
    {
     "name": "stdout",
     "output_type": "stream",
     "text": [
      "[{130, 131, 132, 5, 4, 6, 7, 8, 137, 138, 153, 26, 27, 158, 159, 39, 40, 41, 169, 171, 44, 45, 46, 172, 176, 177, 43, 183, 188, 189, 192, 200, 72, 83, 212, 84, 214, 216, 223, 225, 226, 229, 234, 238, 241, 119}, {0, 1, 2, 129, 128, 141, 21, 23, 25, 154, 29, 30, 35, 36, 37, 38, 167, 178, 54, 55, 184, 56, 60, 190, 66, 75, 76, 82, 213, 215, 88, 218, 97, 98, 99, 100, 101, 105, 106, 107, 236, 113, 114, 115, 120, 125, 126}, {12, 13, 142, 144, 148, 150, 22, 151, 152, 155, 156, 31, 165, 166, 42, 174, 175, 52, 53, 185, 57, 59, 58, 191, 193, 69, 198, 70, 71, 74, 204, 79, 80, 209, 208, 211, 86, 90, 219, 91, 92, 227, 230, 231, 104, 232, 235, 240, 116, 117, 121}, {3, 133, 135, 9, 10, 11, 139, 140, 14, 15, 16, 17, 18, 28, 157, 33, 34, 164, 170, 173, 47, 48, 50, 180, 181, 182, 186, 195, 197, 199, 201, 202, 78, 81, 85, 87, 89, 220, 94, 95, 224, 96, 228, 110, 111, 112, 239, 118}, {64, 194, 68, 196, 134, 203, 77, 143, 207, 145, 146, 147, 221, 222, 160, 161, 32, 163, 168, 233, 109, 127, 49, 51, 124, 63}, {65, 67, 136, 73, 205, 206, 210, 19, 20, 149, 24, 217, 93, 162, 102, 103, 123, 108, 237, 179, 122, 187, 61, 62}]\n"
     ]
    }
   ],
   "source": [
    "print(clusters)"
   ]
  },
  {
   "cell_type": "code",
   "execution_count": 32,
   "id": "91bec5b6-6796-4f25-bff0-95e3e8b65f95",
   "metadata": {},
   "outputs": [
    {
     "ename": "NameError",
     "evalue": "name 'Error' is not defined",
     "output_type": "error",
     "traceback": [
      "\u001b[0;31m---------------------------------------------------------------------------\u001b[0m",
      "\u001b[0;31mNameError\u001b[0m                                 Traceback (most recent call last)",
      "Input \u001b[0;32mIn [32]\u001b[0m, in \u001b[0;36m<cell line: 1>\u001b[0;34m()\u001b[0m\n\u001b[0;32m----> 1\u001b[0m \u001b[38;5;28;01mraise\u001b[39;00m \u001b[43mError\u001b[49m\n\u001b[1;32m      3\u001b[0m nodeset_list_K \u001b[38;5;241m=\u001b[39m []\n\u001b[1;32m      4\u001b[0m \u001b[38;5;28;01mfor\u001b[39;00m nodeset \u001b[38;5;129;01min\u001b[39;00m clusters:\n",
      "\u001b[0;31mNameError\u001b[0m: name 'Error' is not defined"
     ]
    }
   ],
   "source": [
    "raise Error\n",
    "\n",
    "nodeset_list_K = []\n",
    "for nodeset in clusters:\n",
    "    nodeset_list_K.append(nodeset)\n",
    "    tag_list = []\n",
    "    for node in list(nodeset):\n",
    "        tag_list.append(tag_dict[idtag_dict[int(node)+1]])\n",
    "    print(tag_list)\n",
    "    #print(nodeset)\n",
    "\n",
    "    print(\"###\")"
   ]
  },
  {
   "cell_type": "code",
   "execution_count": 33,
   "id": "e3b99cd3-bbd1-449a-9bb9-6f8d19dc625f",
   "metadata": {},
   "outputs": [
    {
     "ename": "NotAPartition",
     "evalue": "Graph with 242 nodes and 8501 edges is not a valid partition of the graph [{130, 131, 132, 5, 4, 6, 7, 8, 137, 138, 153, 26, 27, 158, 159, 39, 40, 41, 169, 171, 44, 45, 46, 172, 176, 177, 43, 183, 188, 189, 192, 200, 72, 83, 212, 84, 214, 216, 223, 225, 226, 229, 234, 238, 241, 119}, {0, 1, 2, 129, 128, 141, 21, 23, 25, 154, 29, 30, 35, 36, 37, 38, 167, 178, 54, 55, 184, 56, 60, 190, 66, 75, 76, 82, 213, 215, 88, 218, 97, 98, 99, 100, 101, 105, 106, 107, 236, 113, 114, 115, 120, 125, 126}, {12, 13, 142, 144, 148, 150, 22, 151, 152, 155, 156, 31, 165, 166, 42, 174, 175, 52, 53, 185, 57, 59, 58, 191, 193, 69, 198, 70, 71, 74, 204, 79, 80, 209, 208, 211, 86, 90, 219, 91, 92, 227, 230, 231, 104, 232, 235, 240, 116, 117, 121}, {3, 133, 135, 9, 10, 11, 139, 140, 14, 15, 16, 17, 18, 28, 157, 33, 34, 164, 170, 173, 47, 48, 50, 180, 181, 182, 186, 195, 197, 199, 201, 202, 78, 81, 85, 87, 89, 220, 94, 95, 224, 96, 228, 110, 111, 112, 239, 118}, {64, 194, 68, 196, 134, 203, 77, 143, 207, 145, 146, 147, 221, 222, 160, 161, 32, 163, 168, 233, 109, 127, 49, 51, 124, 63}, {65, 67, 136, 73, 205, 206, 210, 19, 20, 149, 24, 217, 93, 162, 102, 103, 123, 108, 237, 179, 122, 187, 61, 62}]",
     "output_type": "error",
     "traceback": [
      "\u001b[0;31m---------------------------------------------------------------------------\u001b[0m",
      "\u001b[0;31mNotAPartition\u001b[0m                             Traceback (most recent call last)",
      "Input \u001b[0;32mIn [33]\u001b[0m, in \u001b[0;36m<cell line: 1>\u001b[0;34m()\u001b[0m\n\u001b[0;32m----> 1\u001b[0m q \u001b[38;5;241m=\u001b[39m \u001b[43mnx\u001b[49m\u001b[38;5;241;43m.\u001b[39;49m\u001b[43mcommunity\u001b[49m\u001b[38;5;241;43m.\u001b[39;49m\u001b[43mmodularity\u001b[49m\u001b[43m(\u001b[49m\u001b[43mG\u001b[49m\u001b[43m,\u001b[49m\u001b[43m \u001b[49m\u001b[43mclusters\u001b[49m\u001b[43m)\u001b[49m\n\u001b[1;32m      2\u001b[0m \u001b[38;5;28mprint\u001b[39m(\u001b[38;5;124mf\u001b[39m\u001b[38;5;124m'\u001b[39m\u001b[38;5;124mThe modularity for this partition is: \u001b[39m\u001b[38;5;132;01m{\u001b[39;00mq\u001b[38;5;132;01m}\u001b[39;00m\u001b[38;5;124m'\u001b[39m)\n",
      "File \u001b[0;32m~/.local/lib/python3.10/site-packages/networkx/algorithms/community/quality.py:330\u001b[0m, in \u001b[0;36mmodularity\u001b[0;34m(G, communities, weight, resolution)\u001b[0m\n\u001b[1;32m    328\u001b[0m     communities \u001b[38;5;241m=\u001b[39m \u001b[38;5;28mlist\u001b[39m(communities)\n\u001b[1;32m    329\u001b[0m \u001b[38;5;28;01mif\u001b[39;00m \u001b[38;5;129;01mnot\u001b[39;00m is_partition(G, communities):\n\u001b[0;32m--> 330\u001b[0m     \u001b[38;5;28;01mraise\u001b[39;00m NotAPartition(G, communities)\n\u001b[1;32m    332\u001b[0m directed \u001b[38;5;241m=\u001b[39m G\u001b[38;5;241m.\u001b[39mis_directed()\n\u001b[1;32m    333\u001b[0m \u001b[38;5;28;01mif\u001b[39;00m directed:\n",
      "\u001b[0;31mNotAPartition\u001b[0m: Graph with 242 nodes and 8501 edges is not a valid partition of the graph [{130, 131, 132, 5, 4, 6, 7, 8, 137, 138, 153, 26, 27, 158, 159, 39, 40, 41, 169, 171, 44, 45, 46, 172, 176, 177, 43, 183, 188, 189, 192, 200, 72, 83, 212, 84, 214, 216, 223, 225, 226, 229, 234, 238, 241, 119}, {0, 1, 2, 129, 128, 141, 21, 23, 25, 154, 29, 30, 35, 36, 37, 38, 167, 178, 54, 55, 184, 56, 60, 190, 66, 75, 76, 82, 213, 215, 88, 218, 97, 98, 99, 100, 101, 105, 106, 107, 236, 113, 114, 115, 120, 125, 126}, {12, 13, 142, 144, 148, 150, 22, 151, 152, 155, 156, 31, 165, 166, 42, 174, 175, 52, 53, 185, 57, 59, 58, 191, 193, 69, 198, 70, 71, 74, 204, 79, 80, 209, 208, 211, 86, 90, 219, 91, 92, 227, 230, 231, 104, 232, 235, 240, 116, 117, 121}, {3, 133, 135, 9, 10, 11, 139, 140, 14, 15, 16, 17, 18, 28, 157, 33, 34, 164, 170, 173, 47, 48, 50, 180, 181, 182, 186, 195, 197, 199, 201, 202, 78, 81, 85, 87, 89, 220, 94, 95, 224, 96, 228, 110, 111, 112, 239, 118}, {64, 194, 68, 196, 134, 203, 77, 143, 207, 145, 146, 147, 221, 222, 160, 161, 32, 163, 168, 233, 109, 127, 49, 51, 124, 63}, {65, 67, 136, 73, 205, 206, 210, 19, 20, 149, 24, 217, 93, 162, 102, 103, 123, 108, 237, 179, 122, 187, 61, 62}]"
     ]
    }
   ],
   "source": [
    "q = nx.community.modularity(G, clusters)\n",
    "print(f'The modularity for this partition is: {q}')"
   ]
  },
  {
   "cell_type": "code",
   "execution_count": 34,
   "id": "90e01e4c-b58e-4bc1-816e-7a401144b296",
   "metadata": {},
   "outputs": [],
   "source": [
    "partition_Kumar = nodeset_list_K"
   ]
  },
  {
   "cell_type": "code",
   "execution_count": null,
   "id": "de3aecd9-d378-4cff-ab24-a15bb424c162",
   "metadata": {},
   "outputs": [],
   "source": []
  }
 ],
 "metadata": {
  "kernelspec": {
   "display_name": "Python 3 (ipykernel)",
   "language": "python",
   "name": "python3"
  },
  "language_info": {
   "codemirror_mode": {
    "name": "ipython",
    "version": 3
   },
   "file_extension": ".py",
   "mimetype": "text/x-python",
   "name": "python",
   "nbconvert_exporter": "python",
   "pygments_lexer": "ipython3",
   "version": "3.10.6"
  }
 },
 "nbformat": 4,
 "nbformat_minor": 5
}
