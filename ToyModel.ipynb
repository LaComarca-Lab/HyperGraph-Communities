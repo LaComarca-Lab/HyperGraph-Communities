{
 "cells": [
  {
   "cell_type": "code",
   "execution_count": 1,
   "id": "74c37386-1440-462a-96fd-a1faf4667500",
   "metadata": {},
   "outputs": [],
   "source": [
    "import numpy as np\n",
    "import networkx as nx\n",
    "import matplotlib.pyplot as plt\n",
    "from scipy.cluster import hierarchy\n",
    "import xgi\n",
    "from collections import defaultdict\n",
    "from itertools import combinations\n",
    "\n",
    "from hyperfunctions import *\n",
    "from Kumar_algorithm import *"
   ]
  },
  {
   "cell_type": "code",
   "execution_count": 2,
   "id": "7d6c312a-6ea6-46c2-b99d-807266cda8b9",
   "metadata": {},
   "outputs": [],
   "source": [
    "edge_list_1 = [['a','b'],['c','d'],['a','b','c'],['a','b','d'],['e','f','g'],\n",
    "               ['a','b','d','e'],['c','f','d','a'],['f','g'],['e','g','d'],['g','e'],\n",
    "               ['e','f'],['a','h'],['i','h','j','k'],['j','e','g'],['i','j','k','b'],\n",
    "               ['d','k','e','j'],['k','h'],['l','m','n'],['n','e','f'],['l','h','g'],['m','c']]"
   ]
  },
  {
   "cell_type": "code",
   "execution_count": 3,
   "id": "3f9f2fa1-c5ba-4439-b89f-86097700ad59",
   "metadata": {},
   "outputs": [
    {
     "name": "stdout",
     "output_type": "stream",
     "text": [
      "14 21\n",
      "14 21\n"
     ]
    }
   ],
   "source": [
    "H = xgi.Hypergraph(edge_list_1)\n",
    "nodes_list = list(H.nodes)\n",
    "\n",
    "print(len(H.nodes), len(H.edges))\n",
    "\n",
    "# Remove singletons\n",
    "H.remove_edges_from(H.edges.singletons())\n",
    "print(len(H.nodes), len(H.edges))"
   ]
  },
  {
   "cell_type": "code",
   "execution_count": 4,
   "id": "2641af8e-7557-4c05-8b7c-92262faf3615",
   "metadata": {},
   "outputs": [],
   "source": [
    "derivative = derivative_list(H)"
   ]
  },
  {
   "cell_type": "code",
   "execution_count": 5,
   "id": "3c7f9e0b-2ed7-4a3d-9bf5-aaf35adefaab",
   "metadata": {},
   "outputs": [],
   "source": [
    "method = \"average\""
   ]
  },
  {
   "cell_type": "code",
   "execution_count": 6,
   "id": "56db2793-e800-4a87-8a98-3afd2b4d8d0a",
   "metadata": {},
   "outputs": [
    {
     "data": {
      "image/png": "[encoded data removed]",
      "text/plain": [
       "<Figure size 800x600 with 1 Axes>"
      ]
     },
     "metadata": {},
     "output_type": "display_data"
    }
   ],
   "source": [
    "fig, ax = plt.subplots(1,1, figsize=(8,6))\n",
    "\n",
    "Z = hierarchy.linkage(derivative, method)\n",
    "dn = hierarchy.dendrogram(Z, labels = nodes_list, orientation='top', count_sort='ascending', ax=ax)\n",
    "\n",
    "plt.show()"
   ]
  },
  {
   "cell_type": "markdown",
   "id": "fc022328-2642-4d43-8887-9b5d5ceadefb",
   "metadata": {},
   "source": [
    "## General (us)"
   ]
  },
  {
   "cell_type": "code",
   "execution_count": 7,
   "id": "68fb42c8-78b8-44fa-b49b-43d7203e304a",
   "metadata": {},
   "outputs": [],
   "source": [
    "# Calculate all heights\n",
    "Lamb = []\n",
    "for n in range(len(Z)):\n",
    "    if n>=1:\n",
    "        lamb = Z[n][2] - Z[n-1][2]\n",
    "        Lamb.append(lamb)"
   ]
  },
  {
   "cell_type": "code",
   "execution_count": 8,
   "id": "32ceaea2-7833-4ef3-8076-9a0600028007",
   "metadata": {},
   "outputs": [
    {
     "name": "stdout",
     "output_type": "stream",
     "text": [
      "[0.08333333333333337, 0.25, 0.5, 0.5, 0.0, 0.75, 0.16666666666666696, 1.083333333333333, 0.33333333333333304, 50.72222222222223, 24.694444444444436, 22.88636363636364]\n"
     ]
    }
   ],
   "source": [
    "print(Lamb)"
   ]
  },
  {
   "cell_type": "code",
   "execution_count": 9,
   "id": "e8cf3ae3-7e08-425c-9477-2fbe528e1134",
   "metadata": {},
   "outputs": [
    {
     "name": "stdout",
     "output_type": "stream",
     "text": [
      "50.72222222222223 9\n"
     ]
    }
   ],
   "source": [
    "m = max(Lamb)\n",
    "num_fusion = [i for i, j in enumerate(Lamb) if j == m]\n",
    "index_max = num_fusion[0]\n",
    "print(m, index_max)"
   ]
  },
  {
   "cell_type": "code",
   "execution_count": 10,
   "id": "32276522-1e97-45ef-bd50-044f6e1b9203",
   "metadata": {},
   "outputs": [],
   "source": [
    "h_cut = (Z[index_max+1][2] + Z[index_max][2])/2"
   ]
  },
  {
   "cell_type": "code",
   "execution_count": 11,
   "id": "7f5d4145-d020-4190-b9b2-550de51312c3",
   "metadata": {},
   "outputs": [],
   "source": [
    "cuttree = hierarchy.cut_tree(Z, height = h_cut)\n",
    "Communities_dict = {}\n",
    "for cont, i in enumerate(nodes_list):\n",
    "    Communities_dict[i] = cuttree[cont][0]"
   ]
  },
  {
   "cell_type": "code",
   "execution_count": 12,
   "id": "07eab85a-c479-4f07-886a-2bf4b58d581d",
   "metadata": {},
   "outputs": [
    {
     "data": {
      "text/plain": [
       "array([[0],\n",
       "       [0],\n",
       "       [0],\n",
       "       [0],\n",
       "       [1],\n",
       "       [1],\n",
       "       [1],\n",
       "       [2],\n",
       "       [2],\n",
       "       [2],\n",
       "       [2],\n",
       "       [3],\n",
       "       [3],\n",
       "       [3]])"
      ]
     },
     "execution_count": 12,
     "metadata": {},
     "output_type": "execute_result"
    }
   ],
   "source": [
    "cuttree"
   ]
  },
  {
   "cell_type": "code",
   "execution_count": 13,
   "id": "198acc2e-e2aa-4b5b-8554-914e60c1cd78",
   "metadata": {},
   "outputs": [
    {
     "data": {
      "text/plain": [
       "{'a': 0,\n",
       " 'b': 0,\n",
       " 'c': 0,\n",
       " 'd': 0,\n",
       " 'e': 1,\n",
       " 'f': 1,\n",
       " 'g': 1,\n",
       " 'h': 2,\n",
       " 'i': 2,\n",
       " 'j': 2,\n",
       " 'k': 2,\n",
       " 'l': 3,\n",
       " 'm': 3,\n",
       " 'n': 3}"
      ]
     },
     "execution_count": 13,
     "metadata": {},
     "output_type": "execute_result"
    }
   ],
   "source": [
    "Communities_dict"
   ]
  },
  {
   "cell_type": "code",
   "execution_count": 14,
   "id": "c5fcd357-5137-4a92-b296-92643f3869cb",
   "metadata": {},
   "outputs": [],
   "source": [
    "Num_communities = len(set(Communities_dict.values()))"
   ]
  },
  {
   "cell_type": "code",
   "execution_count": null,
   "id": "4b486379-3c48-418d-9ef1-36c59a1845ef",
   "metadata": {},
   "outputs": [],
   "source": []
  },
  {
   "cell_type": "code",
   "execution_count": 15,
   "id": "710601f8-109c-4eb8-874f-d394531f16a0",
   "metadata": {},
   "outputs": [
    {
     "name": "stdout",
     "output_type": "stream",
     "text": [
      "[['a', 'b', 'c', 'd'], ['e', 'f', 'g'], ['h', 'i', 'j', 'k'], ['l', 'm', 'n']]\n"
     ]
    }
   ],
   "source": [
    "temp = []\n",
    "res_dict = dict()\n",
    "for key, val in Communities_dict.items():\n",
    "    if val not in temp:\n",
    "        temp.append(val)\n",
    "        res_dict[key] = val\n",
    "        \n",
    "Communities_list = []        \n",
    "for val in res_dict.values():\n",
    "    comm = [k for k, v in Communities_dict.items() if v == val]\n",
    "    Communities_list.append(comm)\n",
    "    \n",
    "print(Communities_list)\n",
    "moda = len(Communities_list)"
   ]
  },
  {
   "cell_type": "markdown",
   "id": "3bcaa7e9-6ef1-4e2a-9bfe-d182bcc961e7",
   "metadata": {},
   "source": [
    "## Modularity (us)"
   ]
  },
  {
   "cell_type": "code",
   "execution_count": 16,
   "id": "81d12e40-7318-475b-90ee-92371b567cc0",
   "metadata": {},
   "outputs": [],
   "source": [
    "# Hallamos la matriz de incidencia del hipergrafo:\n",
    "W = np.identity(len(H.edges))\n",
    "I = xgi.convert.to_incidence_matrix(H, sparse=True, index=False)\n",
    "    \n",
    "# Define the delta_e list and D_v matrix\n",
    "delta_e = [len(edge) for edge in H.edges.members()]\n",
    "D_e = np.diag(delta_e)\n",
    "\n",
    "# Compute the reduced adjacency matrix of the hypergraph\n",
    "A = np.dot(I.dot(W), np.dot(np.linalg.inv((D_e - np.identity(len(H.edges)))), I.T.todense()))\n",
    "A -= np.diag(np.diag(A))"
   ]
  },
  {
   "cell_type": "code",
   "execution_count": 17,
   "id": "4b29cfbb-f99b-4f03-9233-cc3306f0bb7f",
   "metadata": {},
   "outputs": [],
   "source": [
    "# Create the associated graph\n",
    "G1 = nx.from_numpy_array(A)\n",
    "\n",
    "# Relabeling the nodes to meet with H\n",
    "mapping = {}\n",
    "\n",
    "for cont, node in enumerate(H.nodes):\n",
    "    mapping[cont] = node\n",
    "    \n",
    "G = nx.relabel_nodes(G1, mapping)"
   ]
  },
  {
   "cell_type": "code",
   "execution_count": null,
   "id": "1f03f58b-f4f5-4555-b0b5-283660326b49",
   "metadata": {},
   "outputs": [],
   "source": []
  },
  {
   "cell_type": "code",
   "execution_count": 18,
   "id": "6a2d683b-1df5-4084-9d2b-b2e137efb9db",
   "metadata": {},
   "outputs": [
    {
     "name": "stdout",
     "output_type": "stream",
     "text": [
      "-- 0.0% --\n"
     ]
    }
   ],
   "source": [
    "Modularity = []\n",
    "for n in range(len(H.nodes)):\n",
    "    \n",
    "    if n % 50 == 0:\n",
    "        print(f'-- {n/len(H.nodes)}% --')\n",
    "    \n",
    "    cuttree = hierarchy.cut_tree(Z, n_clusters = n)\n",
    "    Communities_dict = {}\n",
    "\n",
    "    for cont, i in enumerate(nodes_list):\n",
    "        Communities_dict[i] = cuttree[cont][0]\n",
    "\n",
    "    # Remove duplicated values from the Communities_dict\n",
    "    temp = []\n",
    "    res_dict = dict()\n",
    "    for key, val in Communities_dict.items():\n",
    "        if val not in temp:\n",
    "            temp.append(val)\n",
    "            res_dict[key] = val\n",
    "        \n",
    "    Communities_list = []        \n",
    "    for val in res_dict.values():\n",
    "        comm = [k for k, v in Communities_dict.items() if v == val]\n",
    "        Communities_list.append(comm)\n",
    "        \n",
    "    q = nx.community.modularity(G,Communities_list)\n",
    "    \n",
    "    Modularity.append(q)"
   ]
  },
  {
   "cell_type": "code",
   "execution_count": 19,
   "id": "fc456164-0c32-48ae-bef0-6b1854ffa191",
   "metadata": {},
   "outputs": [
    {
     "data": {
      "image/png": "[encoded data removed]",
      "text/plain": [
       "<Figure size 600x400 with 1 Axes>"
      ]
     },
     "metadata": {},
     "output_type": "display_data"
    }
   ],
   "source": [
    "plt.figure(figsize=(6,4))\n",
    "plt.title(\"Number of communities vs Modularity score\")\n",
    "plt.plot(range(len(H.nodes)), Modularity, label='Q')\n",
    "plt.grid()\n",
    "plt.axvline(Num_communities, color='r', label='General')\n",
    "\n",
    "plt.legend()\n",
    "\n",
    "plt.savefig(\"modularity_vs_moda.png\")"
   ]
  },
  {
   "cell_type": "markdown",
   "id": "b83976c2-1531-44a9-90cb-f537126ca0e0",
   "metadata": {},
   "source": [
    "*Conclusion*: the general method coincides with our modularity maximization in this example"
   ]
  },
  {
   "cell_type": "code",
   "execution_count": 20,
   "id": "0f83c1d5-b07e-4543-8def-3c47d56dfae7",
   "metadata": {},
   "outputs": [
    {
     "name": "stdout",
     "output_type": "stream",
     "text": [
      "Number of communities maximizing the modularity is: 4,\n",
      "with modularity: 0.34055555555555556\n"
     ]
    }
   ],
   "source": [
    "m = max(Modularity)\n",
    "num_fusion = [i for i, j in enumerate(Modularity) if j == m]\n",
    "index_max = num_fusion[0]\n",
    "\n",
    "print(f'Number of communities maximizing the modularity is: {index_max},')\n",
    "print(f'with modularity: {m}')"
   ]
  },
  {
   "cell_type": "code",
   "execution_count": 21,
   "id": "906e690d-b214-4f2b-abe5-4f1588eab975",
   "metadata": {},
   "outputs": [
    {
     "name": "stdout",
     "output_type": "stream",
     "text": [
      "[{'a', 'c', 'd', 'b'}, {'e', 'g', 'f'}, {'k', 'i', 'h', 'j'}, {'m', 'l', 'n'}]\n"
     ]
    }
   ],
   "source": [
    "communities_dict = communities(H, derivative, method, n_clusters=index_max)\n",
    "\n",
    "nodeset_list = []\n",
    "for nodeset in communities_dict.values():\n",
    "    nodeset_list.append(nodeset)\n",
    "\n",
    "print(nodeset_list)"
   ]
  },
  {
   "cell_type": "markdown",
   "id": "46350aa9-fc3a-4a61-8897-46673ac6bbaa",
   "metadata": {},
   "source": [
    "## Modularity (Kumar)"
   ]
  },
  {
   "cell_type": "code",
   "execution_count": 27,
   "id": "80603ff6-1bfc-4926-bd61-dfb2236537e5",
   "metadata": {},
   "outputs": [
    {
     "name": "stdout",
     "output_type": "stream",
     "text": [
      "It converge after 16 iterations\n",
      "['a', 'b', 'c', 'd', 'm']\n",
      "['e', 'f', 'g', 'l', 'n']\n",
      "['i', 'j', 'k', 'h']\n",
      "The modularity for this partition is: 0.32944444444444443\n"
     ]
    }
   ],
   "source": [
    "clusters = IRMM_algorithm(H, tol=1e-3)\n",
    "Communities_K = []\n",
    "for comm in clusters:\n",
    "    Community_K = []\n",
    "    for node in comm:\n",
    "        Community_K.append(mapping[node])\n",
    "    Communities_K.append(Community_K)\n",
    "    print(Community_K)\n",
    "\n",
    "\n",
    "q = nx.community.modularity(G,Communities_K)\n",
    "print(f'The modularity for this partition is: {q}')"
   ]
  },
  {
   "cell_type": "markdown",
   "id": "a152f45c-b7ff-4900-a9b6-23f9f0bc96b7",
   "metadata": {},
   "source": [
    "## Modularity (Kaminski)"
   ]
  },
  {
   "cell_type": "code",
   "execution_count": null,
   "id": "f9f79c3a-15b8-415e-b746-dc3c90092720",
   "metadata": {},
   "outputs": [],
   "source": []
  }
 ],
 "metadata": {
  "kernelspec": {
   "display_name": "Python 3 (ipykernel)",
   "language": "python",
   "name": "python3"
  },
  "language_info": {
   "codemirror_mode": {
    "name": "ipython",
    "version": 3
   },
   "file_extension": ".py",
   "mimetype": "text/x-python",
   "name": "python",
   "nbconvert_exporter": "python",
   "pygments_lexer": "ipython3",
   "version": "3.10.6"
  }
 },
 "nbformat": 4,
 "nbformat_minor": 5
}
