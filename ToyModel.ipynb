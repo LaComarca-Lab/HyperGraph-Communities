{
 "cells": [
  {
   "cell_type": "markdown",
   "id": "3390ce73-5b5e-4f5e-99c4-118a5886c302",
   "metadata": {},
   "source": [
    "# Hypergraph Clustering - Toy Model"
   ]
  },
  {
   "cell_type": "code",
   "execution_count": 1,
   "id": "74c37386-1440-462a-96fd-a1faf4667500",
   "metadata": {},
   "outputs": [],
   "source": [
    "import numpy as np\n",
    "import networkx as nx\n",
    "import xgi\n",
    "from scipy.cluster import hierarchy\n",
    "from collections import defaultdict\n",
    "from itertools import combinations, product\n",
    "\n",
    "import matplotlib.pyplot as plt\n",
    "import scienceplots\n",
    "plt.style.use(['science', 'no-latex'])\n",
    "\n",
    "from hyperfunctions import *\n",
    "from modularity_functions import *"
   ]
  },
  {
   "cell_type": "markdown",
   "id": "4d82e641-0bfd-4530-9126-e8cefcf3f0cb",
   "metadata": {},
   "source": [
    "## Designing the hypergraph"
   ]
  },
  {
   "cell_type": "code",
   "execution_count": 2,
   "id": "7d6c312a-6ea6-46c2-b99d-807266cda8b9",
   "metadata": {},
   "outputs": [],
   "source": [
    "edge_list_1 = [['a','b'],['c','d'],['a','b','c'],['a','b','d'],['e','f','g'],\n",
    "               ['a','b','d','e'],['c','f','d','a'],['f','g'],['e','g','d'],['g','e'],\n",
    "               ['e','f'],['a','h'],['i','h','j','k'],['j','e','g'],['i','j','k','b'],\n",
    "               ['d','k','e','j'],['k','h'],['l','m','n'],['n','e','f'],['l','h','g'],['m','c']]"
   ]
  },
  {
   "cell_type": "code",
   "execution_count": 3,
   "id": "3f9f2fa1-c5ba-4439-b89f-86097700ad59",
   "metadata": {},
   "outputs": [
    {
     "name": "stdout",
     "output_type": "stream",
     "text": [
      "14 21\n",
      "14 21\n"
     ]
    }
   ],
   "source": [
    "H = xgi.Hypergraph(edge_list_1)\n",
    "nodes_list = list(H.nodes)\n",
    "\n",
    "print(len(H.nodes), len(H.edges))\n",
    "\n",
    "# Remove singletons\n",
    "H.remove_edges_from(H.edges.singletons())\n",
    "print(len(H.nodes), len(H.edges))"
   ]
  },
  {
   "cell_type": "markdown",
   "id": "957c133f-2a98-4d5d-a3f6-1c4b5f564210",
   "metadata": {},
   "source": [
    "## Communities"
   ]
  },
  {
   "cell_type": "code",
   "execution_count": 4,
   "id": "2641af8e-7557-4c05-8b7c-92262faf3615",
   "metadata": {},
   "outputs": [],
   "source": [
    "derivative = derivative_list(H)"
   ]
  },
  {
   "cell_type": "code",
   "execution_count": 5,
   "id": "3c7f9e0b-2ed7-4a3d-9bf5-aaf35adefaab",
   "metadata": {},
   "outputs": [],
   "source": [
    "method = \"average\""
   ]
  },
  {
   "cell_type": "code",
   "execution_count": 6,
   "id": "56db2793-e800-4a87-8a98-3afd2b4d8d0a",
   "metadata": {},
   "outputs": [
    {
     "data": {
      "image/png": "[encoded data removed]",
      "text/plain": [
       "<Figure size 800x600 with 1 Axes>"
      ]
     },
     "metadata": {},
     "output_type": "display_data"
    }
   ],
   "source": [
    "fig, ax = plt.subplots(1,1, figsize=(8,6))\n",
    "\n",
    "Z = hierarchy.linkage(derivative, method)\n",
    "dn = hierarchy.dendrogram(Z, labels = nodes_list, orientation='top', count_sort='ascending', ax=ax)\n",
    "\n",
    "plt.show()"
   ]
  },
  {
   "cell_type": "markdown",
   "id": "fc022328-2642-4d43-8887-9b5d5ceadefb",
   "metadata": {},
   "source": [
    "## General (us)"
   ]
  },
  {
   "cell_type": "code",
   "execution_count": 7,
   "id": "21fe3bd4-c7f4-45bb-b76c-d4edeec8542d",
   "metadata": {},
   "outputs": [],
   "source": [
    "h_cut, num_fusion = height_based_cut(Z)"
   ]
  },
  {
   "cell_type": "code",
   "execution_count": 8,
   "id": "7f5d4145-d020-4190-b9b2-550de51312c3",
   "metadata": {},
   "outputs": [],
   "source": [
    "cuttree = hierarchy.cut_tree(Z, height = h_cut)\n",
    "Communities_dict = {}\n",
    "for cont, i in enumerate(nodes_list):\n",
    "    Communities_dict[i] = cuttree[cont][0]"
   ]
  },
  {
   "cell_type": "code",
   "execution_count": 9,
   "id": "198acc2e-e2aa-4b5b-8554-914e60c1cd78",
   "metadata": {},
   "outputs": [
    {
     "name": "stdout",
     "output_type": "stream",
     "text": [
      "{'a': 0, 'b': 0, 'c': 0, 'd': 0, 'e': 1, 'f': 1, 'g': 1, 'h': 2, 'i': 2, 'j': 2, 'k': 2, 'l': 3, 'm': 3, 'n': 3}\n"
     ]
    }
   ],
   "source": [
    "print(Communities_dict)"
   ]
  },
  {
   "cell_type": "code",
   "execution_count": 10,
   "id": "c5fcd357-5137-4a92-b296-92643f3869cb",
   "metadata": {},
   "outputs": [
    {
     "name": "stdout",
     "output_type": "stream",
     "text": [
      "4\n"
     ]
    }
   ],
   "source": [
    "Num_communities = len(set(Communities_dict.values()))\n",
    "print(Num_communities)"
   ]
  },
  {
   "cell_type": "code",
   "execution_count": 11,
   "id": "0e21ca62-6f33-4ce6-b923-2b91144ed9ef",
   "metadata": {},
   "outputs": [
    {
     "name": "stdout",
     "output_type": "stream",
     "text": [
      "[['a', 'b', 'c', 'd'], ['e', 'f', 'g'], ['h', 'i', 'j', 'k'], ['l', 'm', 'n']]\n"
     ]
    }
   ],
   "source": [
    "grouped_dict = defaultdict(list)\n",
    "for key, val in Communities_dict.items():\n",
    "    grouped_dict[val].append(key)\n",
    "\n",
    "Communities_list = list(grouped_dict.values())\n",
    "print(Communities_list)"
   ]
  },
  {
   "cell_type": "markdown",
   "id": "3bcaa7e9-6ef1-4e2a-9bfe-d182bcc961e7",
   "metadata": {},
   "source": [
    "## Modularity (us)"
   ]
  },
  {
   "cell_type": "code",
   "execution_count": 12,
   "id": "81d12e40-7318-475b-90ee-92371b567cc0",
   "metadata": {},
   "outputs": [],
   "source": [
    "A, G, mapping = reduced_adjacency_matrix(H)"
   ]
  },
  {
   "cell_type": "code",
   "execution_count": 13,
   "id": "6a2d683b-1df5-4084-9d2b-b2e137efb9db",
   "metadata": {},
   "outputs": [
    {
     "name": "stdout",
     "output_type": "stream",
     "text": [
      "-- 0.0% --\n"
     ]
    }
   ],
   "source": [
    "Modularity = []\n",
    "for n in range(len(H.nodes)):\n",
    "    \n",
    "    if n % 50 == 0:\n",
    "        print(f'-- {n/len(H.nodes)}% --')\n",
    "    \n",
    "    cuttree = hierarchy.cut_tree(Z, n_clusters = n)\n",
    "    Communities_dict = {}\n",
    "\n",
    "    for cont, i in enumerate(nodes_list):\n",
    "        Communities_dict[i] = cuttree[cont][0]\n",
    "    \n",
    "    # Get the list of communities\n",
    "    grouped_dict = defaultdict(list)\n",
    "    for key, val in Communities_dict.items():\n",
    "        grouped_dict[val].append(key)\n",
    "\n",
    "    Communities_list = list(grouped_dict.values())\n",
    "    #print(Communities_list)\n",
    "        \n",
    "    q = nx.community.modularity(G, Communities_list)\n",
    "    \n",
    "    Modularity.append(q)"
   ]
  },
  {
   "cell_type": "code",
   "execution_count": 14,
   "id": "fc456164-0c32-48ae-bef0-6b1854ffa191",
   "metadata": {},
   "outputs": [
    {
     "data": {
      "text/plain": [
       "<matplotlib.legend.Legend at 0x7f64d5c7b280>"
      ]
     },
     "execution_count": 14,
     "metadata": {},
     "output_type": "execute_result"
    },
    {
     "data": {
      "image/png": "[encoded data removed]",
      "text/plain": [
       "<Figure size 600x400 with 1 Axes>"
      ]
     },
     "metadata": {},
     "output_type": "display_data"
    }
   ],
   "source": [
    "plt.figure(figsize=(6,4))\n",
    "plt.title(\"Modularity score vs Number of communities\")\n",
    "plt.plot(range(len(H.nodes)), Modularity, label='Q')\n",
    "#plt.grid()\n",
    "plt.axvline(Num_communities, color='r', label='General')\n",
    "\n",
    "plt.legend()"
   ]
  },
  {
   "cell_type": "markdown",
   "id": "b83976c2-1531-44a9-90cb-f537126ca0e0",
   "metadata": {},
   "source": [
    "*Conclusion*: the general method coincides with our modularity maximization in this example"
   ]
  },
  {
   "cell_type": "code",
   "execution_count": 15,
   "id": "0f83c1d5-b07e-4543-8def-3c47d56dfae7",
   "metadata": {},
   "outputs": [
    {
     "name": "stdout",
     "output_type": "stream",
     "text": [
      "Number of communities maximizing the modularity is: 4,\n",
      "with modularity: 0.34055555555555556\n"
     ]
    }
   ],
   "source": [
    "m = max(Modularity)\n",
    "num_fusion = [i for i, j in enumerate(Modularity) if j == m]\n",
    "index_max = num_fusion[0]\n",
    "\n",
    "print(f'Number of communities maximizing the modularity is: {index_max},')\n",
    "print(f'with modularity: {m}')"
   ]
  },
  {
   "cell_type": "code",
   "execution_count": 16,
   "id": "906e690d-b214-4f2b-abe5-4f1588eab975",
   "metadata": {},
   "outputs": [
    {
     "name": "stdout",
     "output_type": "stream",
     "text": [
      "[{'a', 'd', 'b', 'c'}, {'f', 'g', 'e'}, {'j', 'i', 'k', 'h'}, {'l', 'm', 'n'}]\n"
     ]
    }
   ],
   "source": [
    "communities_dict = communities(H, derivative, method, n_clusters=index_max)\n",
    "\n",
    "nodeset_list = []\n",
    "for nodeset in communities_dict.values():\n",
    "    nodeset_list.append(nodeset)\n",
    "\n",
    "print(nodeset_list)"
   ]
  },
  {
   "cell_type": "code",
   "execution_count": 17,
   "id": "0cc35739-d533-4ae3-abe3-d38a53727940",
   "metadata": {},
   "outputs": [],
   "source": [
    "partition_modularity = nodeset_list"
   ]
  },
  {
   "cell_type": "markdown",
   "id": "46350aa9-fc3a-4a61-8897-46673ac6bbaa",
   "metadata": {},
   "source": [
    "## Modularity (Kumar)"
   ]
  },
  {
   "cell_type": "code",
   "execution_count": 18,
   "id": "80603ff6-1bfc-4926-bd61-dfb2236537e5",
   "metadata": {},
   "outputs": [
    {
     "name": "stdout",
     "output_type": "stream",
     "text": [
      "It converged after 16 iterations\n",
      "[['a', 'b', 'c', 'd', 'm'], ['e', 'f', 'g', 'l', 'n'], ['i', 'j', 'k', 'h']]\n",
      "The modularity for this partition is: 0.32944444444444443\n"
     ]
    }
   ],
   "source": [
    "clusters = IRMM_algorithm(H, tol=1e-3)\n",
    "Communities_K = []\n",
    "for comm in clusters:\n",
    "    Community_K = []\n",
    "    for node in comm:\n",
    "        Community_K.append(mapping[node])\n",
    "    Communities_K.append(Community_K)\n",
    "\n",
    "print(Communities_K)\n",
    "\n",
    "q = nx.community.modularity(G,Communities_K)\n",
    "print(f'The modularity for this partition is: {q}')"
   ]
  },
  {
   "cell_type": "code",
   "execution_count": 19,
   "id": "f9f79c3a-15b8-415e-b746-dc3c90092720",
   "metadata": {},
   "outputs": [],
   "source": [
    "partition_Kumar = Communities_K"
   ]
  },
  {
   "cell_type": "markdown",
   "id": "38981449-0f32-4b7e-be44-eba14882c337",
   "metadata": {},
   "source": [
    "## Index between partitions"
   ]
  },
  {
   "cell_type": "code",
   "execution_count": 20,
   "id": "ec921937-3368-4a8f-8eb4-3392df132949",
   "metadata": {},
   "outputs": [
    {
     "name": "stdout",
     "output_type": "stream",
     "text": [
      "0.8302846728346047\n",
      "0.8217687074829932\n"
     ]
    }
   ],
   "source": [
    "Jacc = 0\n",
    "for part_mod, part_K in product(partition_modularity, partition_Kumar):\n",
    "    union = set(part_mod).union(set(part_K))\n",
    "    intersection = set(part_mod).intersection(set(part_K))\n",
    "    \n",
    "    Jacc += len(intersection)/len(union)\n",
    "\n",
    "Jacc /= np.sqrt(len(partition_modularity) * len(partition_Kumar))\n",
    "\n",
    "print(Jacc)\n",
    "\n",
    "\n",
    "Jacc *= np.sqrt(len(partition_modularity) * len(partition_Kumar))\n",
    "Jacc /= (len(partition_modularity) + len(partition_Kumar))/2\n",
    "\n",
    "print(Jacc)"
   ]
  },
  {
   "cell_type": "code",
   "execution_count": null,
   "id": "22de6df8-5541-4509-866a-1d7b98235d64",
   "metadata": {},
   "outputs": [],
   "source": []
  }
 ],
 "metadata": {
  "kernelspec": {
   "display_name": "Python 3 (ipykernel)",
   "language": "python",
   "name": "python3"
  },
  "language_info": {
   "codemirror_mode": {
    "name": "ipython",
    "version": 3
   },
   "file_extension": ".py",
   "mimetype": "text/x-python",
   "name": "python",
   "nbconvert_exporter": "python",
   "pygments_lexer": "ipython3",
   "version": "3.10.10"
  }
 },
 "nbformat": 4,
 "nbformat_minor": 5
}
